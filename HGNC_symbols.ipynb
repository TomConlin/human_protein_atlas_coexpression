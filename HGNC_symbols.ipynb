{
 "cells": [
  {
   "cell_type": "markdown",
   "metadata": {},
   "source": [
    "Individual calls to HGNC for updated gene symbols takes too much time"
   ]
  },
  {
   "cell_type": "code",
   "execution_count": 59,
   "metadata": {
    "collapsed": true
   },
   "outputs": [],
   "source": [
    "import requests\n",
    "import re\n",
    "import yaml"
   ]
  },
  {
   "cell_type": "code",
   "execution_count": 2,
   "metadata": {},
   "outputs": [],
   "source": [
    "HGNCURL='http://www.genenames.org/cgi-bin/download?'"
   ]
  },
  {
   "cell_type": "markdown",
   "metadata": {},
   "source": [
    "col=gd_hgnc_id&  \n",
    "col=gd_app_sym&  \n",
    "col=gd_status&  \n",
    "col=gd_prev_sym&  \n",
    "col=gd_aliases&  \n",
    "col=gd_pub_eg_id&  \n",
    "col=gd_pub_ensembl_id&  \n",
    "col=gd_pub_refseq_ids&  \n",
    "status=Approved&  \n",
    "status=Entry+Withdrawn&  \n",
    "status_opt=2&\n",
    "where=%28%28gd_pub_chrom_map+not+like+%27%25patch%25%27+and+gd_pub_chrom_map+not+like+%27%25alternate+reference+locus%25%27%29+or+gd_pub_chrom_map+IS+NULL%29&  \n",
    "order_by=gd_app_sym_sort&  \n",
    "format=json&  \n",
    "limit=&  \n",
    "hgnc_dbtag=on&  \n",
    "submit=submit"
   ]
  },
  {
   "cell_type": "code",
   "execution_count": 24,
   "metadata": {},
   "outputs": [],
   "source": [
    "query = \"&\".join([\n",
    "    'col=gd_app_sym',\n",
    "    'col=gd_prev_sym',\n",
    "    'order_by=gd_app_sym_sort',\n",
    "    'format=text',\n",
    "    'submit=submit'\n",
    "])"
   ]
  },
  {
   "cell_type": "code",
   "execution_count": 25,
   "metadata": {},
   "outputs": [],
   "source": [
    "response = requests.get(HGNCURL + query)"
   ]
  },
  {
   "cell_type": "code",
   "execution_count": 33,
   "metadata": {},
   "outputs": [],
   "source": [
    "if response.status_code == requests.codes.ok:\n",
    "    hgnc = response.text.splitlines()\n",
    "    hgnc.pop(0)  # header\n",
    "else: \n",
    "    print('ERROR ' + response.url + ' returned '+ str(response.status_code))"
   ]
  },
  {
   "cell_type": "code",
   "execution_count": 54,
   "metadata": {},
   "outputs": [],
   "source": [
    "old_new = {}\n",
    "for line in hgnc:\n",
    "    (symbol, previous) = re.split(r'\\t',line)\n",
    "    for old in re.split(r',', previous):\n",
    "        old = old.strip()\n",
    "        if old != '':\n",
    "            old_new[old] = symbol.strip()\n",
    "    "
   ]
  },
  {
   "cell_type": "code",
   "execution_count": 55,
   "metadata": {},
   "outputs": [
    {
     "data": {
      "text/plain": [
       "13928"
      ]
     },
     "execution_count": 55,
     "metadata": {},
     "output_type": "execute_result"
    }
   ],
   "source": [
    "len(old_new)"
   ]
  },
  {
   "cell_type": "code",
   "execution_count": 66,
   "metadata": {},
   "outputs": [],
   "source": [
    "with open('previous_symbol_hgnc.yaml', 'w') as fh:\n",
    "    yaml.dump(old_new, fh)"
   ]
  },
  {
   "cell_type": "code",
   "execution_count": 69,
   "metadata": {},
   "outputs": [
    {
     "name": "stdout",
     "output_type": "stream",
     "text": [
      "-rw-r--r-- 1 tomc tomc 238136 Jul 31 16:14 previous_symbol_hgnc.yaml\r\n"
     ]
    }
   ],
   "source": [
    "! ls -l previous_symbol_hgnc.yaml"
   ]
  },
  {
   "cell_type": "code",
   "execution_count": 73,
   "metadata": {},
   "outputs": [],
   "source": [
    "# pretend we are somewhere else\n",
    "\n",
    "with open('previous_symbol_hgnc.yaml') as fh:\n",
    "    string_symbol = yaml.load(fh)"
   ]
  },
  {
   "cell_type": "code",
   "execution_count": 79,
   "metadata": {
    "scrolled": true
   },
   "outputs": [
    {
     "name": "stdout",
     "output_type": "stream",
     "text": [
      "{A1BG-AS: A1BG-AS1, A1BGAS: A1BG-AS1, A1S9T: UBA1, A26A1: POTEA, A26B1: POTEB, A26B2: POTEC,\r\n",
      "  A26B3: POTED, A26C1A: POTEE, A26C1B: POTEF, A26C2: POTEG, A26C3: POTEH, A2LD1: GGACT,\r\n",
      "  A2MP: A2MP1, A2MR: LRP1, A2MRAP: LRPAP1, A3GALT2P: A3GALT2, AA: TEAD1, AAC1: NAT1,\r\n",
      "  AAC2: NAT2, AACP: NATP, AACSL: AACSP1, AACT: SERPINA3, AADACL1: NCEH1, AARSL: AARS2,\r\n",
      "  AATK-AS1: PVALEF, ABC1: ABCA1, ABC2: ABCA2, ABC3: ABCA3, ABC50: ABCF1, ABC7: ABCB7,\r\n",
      "  ABCA11: ABCA11P, ABCB10P: ABCB10P1, ABCB10P2: ABCB10P1, ABCB2: TAP1, ABCB3: TAP2,\r\n",
      "  ABCC7: CFTR, ABCR: ABCA4, ABHD17AP2: ABHD17AP1, ABHD7: EPHX4, ABHD9: EPHX3, ABI1P: ABI1P1,\r\n",
      "  ABL: ABL1, ABLIM: ABLIM1, ABLL: ABL2, ABP1: AOC1, ACAC: ACACA, ACAS2: ACSS2, ACAS2L: ACSS1,\r\n",
      "  ACAT: ACAT1, ACATN: SLC33A1, ACBP: CPN2, ACC: ACACA, ACCN: ASIC2, ACCN1: ASIC2,\r\n",
      "  ACCN2: ASIC1, ACCN3: ASIC3, ACCN4: ASIC4, ACCN5: ASIC5, ACCPN: SLC12A6, ACDC: ADIPOQ,\r\n"
     ]
    }
   ],
   "source": [
    "! head previous_symbol_hgnc.yaml"
   ]
  },
  {
   "cell_type": "code",
   "execution_count": 81,
   "metadata": {},
   "outputs": [
    {
     "name": "stdout",
     "output_type": "stream",
     "text": [
      "SLC33A1\n"
     ]
    }
   ],
   "source": [
    "s = 'ACATN'\n",
    "if s in string_symbol:\n",
    "    print(string_symbol[s])\n",
    "else:\n",
    "    print(s)"
   ]
  }
 ],
 "metadata": {
  "kernelspec": {
   "display_name": "Python 3",
   "language": "python",
   "name": "python3"
  },
  "language_info": {
   "codemirror_mode": {
    "name": "ipython",
    "version": 3
   },
   "file_extension": ".py",
   "mimetype": "text/x-python",
   "name": "python",
   "nbconvert_exporter": "python",
   "pygments_lexer": "ipython3",
   "version": "3.5.2"
  }
 },
 "nbformat": 4,
 "nbformat_minor": 2
}
